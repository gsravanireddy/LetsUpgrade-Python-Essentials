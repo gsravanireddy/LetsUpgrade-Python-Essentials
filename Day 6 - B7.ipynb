{
 "cells": [
  {
   "cell_type": "code",
   "execution_count": 30,
   "metadata": {},
   "outputs": [],
   "source": [
    "class Bank:\n",
    "    def __init__(self,ownername):\n",
    "        self.ownername=ownername\n",
    "        self.balance=0\n",
    "        print(\"Hello \"+self.ownername+\"!!! Welcome to the Deposit & Withdrawal Machine\\n\")\n",
    " \n",
    "    def deposit(self):\n",
    "        amount=float(input(\"Enter amount to be Deposited: \"))\n",
    "        self.balance += amount\n",
    "        print(\"\\n Amount Deposited:\",amount)\n",
    "        print(\"\\n Net Balance:\",self.balance)\n",
    " \n",
    "    def withdraw(self):\n",
    "        amount = float(input(\"Enter amount to be Withdrawn: \"))\n",
    "        if self.balance>=amount:\n",
    "            self.balance-=amount\n",
    "            print(\"\\n You Withdrew:\",amount)\n",
    "        else:\n",
    "            print(\"\\n Insufficient balance  \")\n",
    "        print(\"\\n Net Balance:\",self.balance) "
   ]
  },
  {
   "cell_type": "code",
   "execution_count": 31,
   "metadata": {},
   "outputs": [
    {
     "name": "stdout",
     "output_type": "stream",
     "text": [
      "Hello Sravani!!! Welcome to the Deposit & Withdrawal Machine\n",
      "\n",
      "Enter amount to be Deposited: 100\n",
      "\n",
      " Amount Deposited: 100.0\n",
      "\n",
      " Net Balance: 100.0\n",
      "Enter amount to be Withdrawn: 40\n",
      "\n",
      " You Withdrew: 40.0\n",
      "\n",
      " Net Balance: 60.0\n"
     ]
    }
   ],
   "source": [
    "s=Bank(\"Sravani\")\n",
    "s.deposit()\n",
    "s.withdraw()"
   ]
  },
  {
   "cell_type": "code",
   "execution_count": 33,
   "metadata": {},
   "outputs": [
    {
     "name": "stdout",
     "output_type": "stream",
     "text": [
      "Enter amount to be Withdrawn: 100\n",
      "\n",
      " Insufficient balance  \n",
      "\n",
      " Net Balance: 60.0\n"
     ]
    }
   ],
   "source": [
    "s.withdraw()"
   ]
  },
  {
   "cell_type": "code",
   "execution_count": 51,
   "metadata": {},
   "outputs": [],
   "source": [
    "import math\n",
    "class Cone:\n",
    "    def __init__(self,r,h):\n",
    "        self.r=r\n",
    "        self.h=h\n",
    "        print(\"Radius: \",self.r)\n",
    "        print(\"Height: \",self.h)\n",
    "    def volume(self):\n",
    "        v=float(math.pi*self.r*self.r*(self.h/3))\n",
    "        print(\"Vloume of Cone: \",v)\n",
    "    def surface_area(self):\n",
    "        l = math.sqrt(self.r * self.r + self.h * self.h)\n",
    "        s = math.pi * self.r * (self.r + l)\n",
    "        print(\"Surface Area: \",s)\n",
    "                "
   ]
  },
  {
   "cell_type": "code",
   "execution_count": 52,
   "metadata": {},
   "outputs": [
    {
     "name": "stdout",
     "output_type": "stream",
     "text": [
      "Radius:  5\n",
      "Height:  6\n",
      "Vloume of Cone:  157.07963267948966\n",
      "Surface Area:  201.22293136239685\n"
     ]
    }
   ],
   "source": [
    "c=Cone(5,6)\n",
    "c.volume()\n",
    "c.surface_area()"
   ]
  }
 ],
 "metadata": {
  "kernelspec": {
   "display_name": "Python 3",
   "language": "python",
   "name": "python3"
  },
  "language_info": {
   "codemirror_mode": {
    "name": "ipython",
    "version": 3
   },
   "file_extension": ".py",
   "mimetype": "text/x-python",
   "name": "python",
   "nbconvert_exporter": "python",
   "pygments_lexer": "ipython3",
   "version": "3.8.3"
  }
 },
 "nbformat": 4,
 "nbformat_minor": 4
}
